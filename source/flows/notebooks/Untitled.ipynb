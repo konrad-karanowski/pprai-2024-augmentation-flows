{
 "cells": [
  {
   "cell_type": "code",
   "execution_count": 1,
   "id": "07b6085c-a9a2-4a33-a58d-805aa4c88c6b",
   "metadata": {},
   "outputs": [
    {
     "name": "stderr",
     "output_type": "stream",
     "text": [
      "/tmp/ipykernel_706901/4080736814.py:1: DeprecationWarning: \n",
      "Pyarrow will become a required dependency of pandas in the next major release of pandas (pandas 3.0),\n",
      "(to allow more performant data types, such as the Arrow string type, and better interoperability with other libraries)\n",
      "but was not found to be installed on your system.\n",
      "If this would cause problems for you,\n",
      "please provide us feedback at https://github.com/pandas-dev/pandas/issues/54466\n",
      "        \n",
      "  import pandas as pd\n"
     ]
    }
   ],
   "source": [
    "import pandas as pd"
   ]
  },
  {
   "cell_type": "code",
   "execution_count": 2,
   "id": "b09653b9-154a-4fb2-9edc-4078c9c868e7",
   "metadata": {},
   "outputs": [],
   "source": [
    "df = pd.read_csv('/home/mzieba/pprai-2024-augmentation-flows/storage/data/arxiv100.csv')"
   ]
  },
  {
   "cell_type": "code",
   "execution_count": 4,
   "id": "085afa10-645f-4705-b012-118b5f1d8b74",
   "metadata": {},
   "outputs": [],
   "source": [
    "class_map = {k: i for i, k in enumerate(pd.unique(df.label))}"
   ]
  },
  {
   "cell_type": "code",
   "execution_count": 5,
   "id": "331ce1bc-1539-40f4-b6af-bb2b8a5c7a84",
   "metadata": {},
   "outputs": [
    {
     "data": {
      "text/plain": [
       "{'astro-ph': 0,\n",
       " 'cond-mat': 1,\n",
       " 'cs': 2,\n",
       " 'eess': 3,\n",
       " 'hep-ph': 4,\n",
       " 'hep-th': 5,\n",
       " 'math': 6,\n",
       " 'physics': 7,\n",
       " 'quant-ph': 8,\n",
       " 'stat': 9}"
      ]
     },
     "execution_count": 5,
     "metadata": {},
     "output_type": "execute_result"
    }
   ],
   "source": [
    "class_map"
   ]
  },
  {
   "cell_type": "code",
   "execution_count": 6,
   "id": "8d64367b-3e81-4082-8014-cb53ca53f945",
   "metadata": {},
   "outputs": [],
   "source": [
    "df['y'] = df['label'].apply(lambda x: class_map[x])\n",
    "df['texts'] = df['abstract'] "
   ]
  },
  {
   "cell_type": "code",
   "execution_count": 9,
   "id": "f4be7689-ed36-460b-87bd-563a42a1e83c",
   "metadata": {},
   "outputs": [],
   "source": [
    "df[['label', 'y', 'texts']].to_csv('arxiv100.csv', index=False)"
   ]
  },
  {
   "cell_type": "code",
   "execution_count": 11,
   "id": "0f0daa9b-8479-47a8-8f93-596e14b617fc",
   "metadata": {},
   "outputs": [
    {
     "data": {
      "text/html": [
       "<div>\n",
       "<style scoped>\n",
       "    .dataframe tbody tr th:only-of-type {\n",
       "        vertical-align: middle;\n",
       "    }\n",
       "\n",
       "    .dataframe tbody tr th {\n",
       "        vertical-align: top;\n",
       "    }\n",
       "\n",
       "    .dataframe thead th {\n",
       "        text-align: right;\n",
       "    }\n",
       "</style>\n",
       "<table border=\"1\" class=\"dataframe\">\n",
       "  <thead>\n",
       "    <tr style=\"text-align: right;\">\n",
       "      <th></th>\n",
       "      <th>label</th>\n",
       "      <th>y</th>\n",
       "      <th>texts</th>\n",
       "    </tr>\n",
       "  </thead>\n",
       "  <tbody>\n",
       "    <tr>\n",
       "      <th>0</th>\n",
       "      <td>astro-ph</td>\n",
       "      <td>0</td>\n",
       "      <td>We report the first $BV$ light curves and hi...</td>\n",
       "    </tr>\n",
       "    <tr>\n",
       "      <th>1</th>\n",
       "      <td>astro-ph</td>\n",
       "      <td>0</td>\n",
       "      <td>A possible origin of kHz QPOs in low-mass X-...</td>\n",
       "    </tr>\n",
       "    <tr>\n",
       "      <th>2</th>\n",
       "      <td>astro-ph</td>\n",
       "      <td>0</td>\n",
       "      <td>Context. The relative importance of AC and D...</td>\n",
       "    </tr>\n",
       "    <tr>\n",
       "      <th>3</th>\n",
       "      <td>astro-ph</td>\n",
       "      <td>0</td>\n",
       "      <td>Extreme high-energy peaked BL Lac objects (E...</td>\n",
       "    </tr>\n",
       "    <tr>\n",
       "      <th>4</th>\n",
       "      <td>astro-ph</td>\n",
       "      <td>0</td>\n",
       "      <td>We present results from a high-resolution, c...</td>\n",
       "    </tr>\n",
       "    <tr>\n",
       "      <th>...</th>\n",
       "      <td>...</td>\n",
       "      <td>...</td>\n",
       "      <td>...</td>\n",
       "    </tr>\n",
       "    <tr>\n",
       "      <th>99995</th>\n",
       "      <td>stat</td>\n",
       "      <td>9</td>\n",
       "      <td>Max-stable processes have been expanded to q...</td>\n",
       "    </tr>\n",
       "    <tr>\n",
       "      <th>99996</th>\n",
       "      <td>stat</td>\n",
       "      <td>9</td>\n",
       "      <td>Wildland fire smoke contains hazardous level...</td>\n",
       "    </tr>\n",
       "    <tr>\n",
       "      <th>99997</th>\n",
       "      <td>stat</td>\n",
       "      <td>9</td>\n",
       "      <td>Event time models predict occurrence times o...</td>\n",
       "    </tr>\n",
       "    <tr>\n",
       "      <th>99998</th>\n",
       "      <td>stat</td>\n",
       "      <td>9</td>\n",
       "      <td>The Conway-Maxwell-Poisson (CMP) or COM-Pois...</td>\n",
       "    </tr>\n",
       "    <tr>\n",
       "      <th>99999</th>\n",
       "      <td>stat</td>\n",
       "      <td>9</td>\n",
       "      <td>In this report we describe a tool for compar...</td>\n",
       "    </tr>\n",
       "  </tbody>\n",
       "</table>\n",
       "<p>100000 rows × 3 columns</p>\n",
       "</div>"
      ],
      "text/plain": [
       "          label  y                                              texts\n",
       "0      astro-ph  0    We report the first $BV$ light curves and hi...\n",
       "1      astro-ph  0    A possible origin of kHz QPOs in low-mass X-...\n",
       "2      astro-ph  0    Context. The relative importance of AC and D...\n",
       "3      astro-ph  0    Extreme high-energy peaked BL Lac objects (E...\n",
       "4      astro-ph  0    We present results from a high-resolution, c...\n",
       "...         ... ..                                                ...\n",
       "99995      stat  9    Max-stable processes have been expanded to q...\n",
       "99996      stat  9    Wildland fire smoke contains hazardous level...\n",
       "99997      stat  9    Event time models predict occurrence times o...\n",
       "99998      stat  9    The Conway-Maxwell-Poisson (CMP) or COM-Pois...\n",
       "99999      stat  9    In this report we describe a tool for compar...\n",
       "\n",
       "[100000 rows x 3 columns]"
      ]
     },
     "execution_count": 11,
     "metadata": {},
     "output_type": "execute_result"
    }
   ],
   "source": [
    "df_sc = pd.read_csv('arxiv100.csv')\n",
    "df_sc"
   ]
  },
  {
   "cell_type": "code",
   "execution_count": 13,
   "id": "e660516a-b316-4521-9621-9431e5eaea28",
   "metadata": {},
   "outputs": [],
   "source": [
    "from sklearn.model_selection import train_test_split"
   ]
  },
  {
   "cell_type": "code",
   "execution_count": 14,
   "id": "495ec2a2-9be5-4400-a84e-22cba1ad6a68",
   "metadata": {},
   "outputs": [],
   "source": [
    "train, test = train_test_split(df_sc, test_size=0.2, stratify=df_sc.y)\n",
    "train, val = train_test_split(train, test_size=0.2, stratify=train.y)"
   ]
  },
  {
   "cell_type": "code",
   "execution_count": 15,
   "id": "57959370-08c7-457c-9172-c3288c96bb70",
   "metadata": {},
   "outputs": [],
   "source": [
    "train['split'] = 'train'\n",
    "test['split'] = 'test'\n",
    "val['split'] = 'val'"
   ]
  },
  {
   "cell_type": "code",
   "execution_count": 16,
   "id": "70c5263e-9aa2-43a7-9d75-5ce6491f315a",
   "metadata": {},
   "outputs": [],
   "source": [
    "df_train_new = pd.concat([train, test, val])"
   ]
  },
  {
   "cell_type": "code",
   "execution_count": 18,
   "id": "7032f7ce-dfa7-437f-926b-38dc3e9bf2f7",
   "metadata": {},
   "outputs": [],
   "source": [
    "small_train, _ = train_test_split(train, train_size=0.1, stratify=train.y)\n",
    "df_train10 = pd.concat([small_train, val, test])"
   ]
  },
  {
   "cell_type": "code",
   "execution_count": 23,
   "id": "af04a12e-b6cb-4231-9ee9-438ad48e4cd3",
   "metadata": {},
   "outputs": [],
   "source": [
    "df_train_new.to_csv('arxiv100.csv', index=False)"
   ]
  },
  {
   "cell_type": "code",
   "execution_count": 24,
   "id": "e57aa17f-cdb5-4046-b71d-ca4d5e1fffbf",
   "metadata": {},
   "outputs": [],
   "source": [
    "df_train10.to_csv('arxiv100_10percent.csv', index=False)"
   ]
  },
  {
   "cell_type": "code",
   "execution_count": null,
   "id": "dc39bd6f-9f5b-471c-b7cb-65406ad8b267",
   "metadata": {},
   "outputs": [],
   "source": []
  }
 ],
 "metadata": {
  "kernelspec": {
   "display_name": "Python 3 (ipykernel)",
   "language": "python",
   "name": "python3"
  },
  "language_info": {
   "codemirror_mode": {
    "name": "ipython",
    "version": 3
   },
   "file_extension": ".py",
   "mimetype": "text/x-python",
   "name": "python",
   "nbconvert_exporter": "python",
   "pygments_lexer": "ipython3",
   "version": "3.10.13"
  }
 },
 "nbformat": 4,
 "nbformat_minor": 5
}
